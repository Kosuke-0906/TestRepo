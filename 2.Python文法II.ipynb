{
 "cells": [
  {
   "cell_type": "code",
   "execution_count": 1,
   "id": "f6c39c24-1fc9-4470-827f-47d586d84ae0",
   "metadata": {},
   "outputs": [],
   "source": [
    "#リストの代入\n",
    "menu = ['salad', 'soup', 'steak', 'cake']"
   ]
  },
  {
   "cell_type": "code",
   "execution_count": 2,
   "id": "1531aa06-9c73-4225-9aef-39f78177d412",
   "metadata": {},
   "outputs": [
    {
     "name": "stdout",
     "output_type": "stream",
     "text": [
      "['salad', 'soup', 'steak', 'cake', 'pudding']\n"
     ]
    }
   ],
   "source": [
    "#要素の追加\n",
    "menu.append('pudding')\n",
    "print(menu)"
   ]
  },
  {
   "cell_type": "code",
   "execution_count": 3,
   "id": "2c1c8f93-9fa4-4920-a698-f5068577bd91",
   "metadata": {},
   "outputs": [
    {
     "name": "stdout",
     "output_type": "stream",
     "text": [
      "['salad', 'steak', 'cake', 'pudding']\n"
     ]
    }
   ],
   "source": [
    "#要素の削除\n",
    "menu.remove('soup')\n",
    "print(menu)"
   ]
  },
  {
   "cell_type": "code",
   "execution_count": 4,
   "id": "d89810ff-48ea-47b3-9f4e-5d011b68eb48",
   "metadata": {},
   "outputs": [
    {
     "name": "stdout",
     "output_type": "stream",
     "text": [
      "3\n",
      "180\n",
      "60.0\n",
      "80\n",
      "40\n"
     ]
    }
   ],
   "source": [
    "#数値リストの代入\n",
    "score = [40, 60, 80]\n",
    "#数値リストの要素数を出力\n",
    "print(len(score))\n",
    "#数値リストの合計値を出力\n",
    "print(sum(score))\n",
    "#数値リストの平均値を出力\n",
    "print(sum(score)/len(score))\n",
    "#数値リストの最大値を出力\n",
    "print(max(score))\n",
    "#数値リストの最小値を出力\n",
    "print(min(score))"
   ]
  },
  {
   "cell_type": "code",
   "execution_count": 5,
   "id": "c29dad38-6393-4c29-b19c-380407e03005",
   "metadata": {},
   "outputs": [],
   "source": [
    "#2次元リストの代入\n",
    "table = [['24/3', '24/4', '24/5'], [80, 100, 90], [50, 60, 70]]"
   ]
  },
  {
   "cell_type": "code",
   "execution_count": 6,
   "id": "45104d2e-e73c-4f5c-9ce4-69959873e480",
   "metadata": {},
   "outputs": [
    {
     "name": "stdout",
     "output_type": "stream",
     "text": [
      "24/4\n"
     ]
    }
   ],
   "source": [
    "# 2つ目の日付を表示したい例\n",
    "# 0行1列の要素を抽出\n",
    "print(table[0][1])"
   ]
  },
  {
   "cell_type": "code",
   "execution_count": 7,
   "id": "f2a2c0b1-853d-41f4-9cdc-5103e307deb0",
   "metadata": {},
   "outputs": [
    {
     "name": "stdout",
     "output_type": "stream",
     "text": [
      "60\n"
     ]
    }
   ],
   "source": [
    "# 24/4の数学の点数を表示したい例\n",
    "# 2行1列の要素を抽出\n",
    "print(table[2][1])"
   ]
  },
  {
   "cell_type": "code",
   "execution_count": null,
   "id": "1e910e82-6511-437e-8899-16be5c7df8b1",
   "metadata": {},
   "outputs": [],
   "source": []
  }
 ],
 "metadata": {
  "kernelspec": {
   "display_name": "Python 3 (ipykernel)",
   "language": "python",
   "name": "python3"
  },
  "language_info": {
   "codemirror_mode": {
    "name": "ipython",
    "version": 3
   },
   "file_extension": ".py",
   "mimetype": "text/x-python",
   "name": "python",
   "nbconvert_exporter": "python",
   "pygments_lexer": "ipython3",
   "version": "3.12.4"
  }
 },
 "nbformat": 4,
 "nbformat_minor": 5
}
